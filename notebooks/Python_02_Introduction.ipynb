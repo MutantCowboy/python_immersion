{
 "cells": [
  {
   "cell_type": "markdown",
   "metadata": {},
   "source": [
    "# Python Immersion Course\n",
    "\n",
    "### An Introduction to Python\n",
    "\n",
    "### Joe Blankenship - Just some dude"
   ]
  },
  {
   "cell_type": "markdown",
   "metadata": {},
   "source": [
    "## Introduction - Part 1\n",
    "\n",
    "* The Basics\n",
    "  * Mathematics\n",
    "  * Data Types\n",
    "    * Integers\n",
    "    * Floats\n",
    "    * Strings\n",
    "  * Variables\n",
    "  * Docstring\n",
    "  * Import Modules\n",
    "* Flow Control\n",
    "  * Boolean Logic\n",
    "  * Conditions\n",
    "  * If, Elif, Else\n",
    "  * Loops\n",
    "    * While\n",
    "    * For\n",
    "* Functions\n",
    "  * Define Functions\n",
    "  * Arguements\n",
    "  * Scope\n",
    "    * Local\n",
    "    * Global\n",
    "  * Exception Handling\n",
    "* Data Structures\n",
    "  * Lists\n",
    "    * Methods\n",
    "  * Tuples\n",
    "  * Dictionaries\n",
    "    * Methods"
   ]
  },
  {
   "cell_type": "code",
   "execution_count": null,
   "metadata": {},
   "outputs": [],
   "source": []
  }
 ],
 "metadata": {
  "kernelspec": {
   "display_name": "Python 3",
   "language": "python",
   "name": "python3"
  },
  "language_info": {
   "codemirror_mode": {
    "name": "ipython",
    "version": 3
   },
   "file_extension": ".py",
   "mimetype": "text/x-python",
   "name": "python",
   "nbconvert_exporter": "python",
   "pygments_lexer": "ipython3",
   "version": "3.6.5"
  }
 },
 "nbformat": 4,
 "nbformat_minor": 2
}
