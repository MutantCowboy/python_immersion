{
 "cells": [
  {
   "cell_type": "markdown",
   "metadata": {},
   "source": [
    "# Python Immersion Course\n",
    "\n",
    "### Data Visualization with Python - Part 5\n",
    "\n",
    "### Joe Blankenship - Just some dude"
   ]
  },
  {
   "cell_type": "markdown",
   "metadata": {},
   "source": [
    "<hr>\n",
    "\n",
    "## Data Cleaning\n",
    "\n",
    "<hr>"
   ]
  },
  {
   "cell_type": "code",
   "execution_count": null,
   "metadata": {},
   "outputs": [],
   "source": []
  },
  {
   "cell_type": "code",
   "execution_count": null,
   "metadata": {},
   "outputs": [],
   "source": []
  },
  {
   "cell_type": "code",
   "execution_count": null,
   "metadata": {},
   "outputs": [],
   "source": []
  },
  {
   "cell_type": "markdown",
   "metadata": {},
   "source": [
    "### List Comprehensions"
   ]
  },
  {
   "cell_type": "code",
   "execution_count": null,
   "metadata": {},
   "outputs": [],
   "source": [
    "'''\n",
    "Thanks to Dan Bader for this example\n",
    "\n",
    "A list comprehension is structured like this:\n",
    "\n",
    "vals = [expression \n",
    "        for value in collection \n",
    "        if condition]\n",
    "\n",
    "This is equivalent to:\n",
    "\n",
    "vals = []\n",
    "for value in collection:\n",
    "    if condition:\n",
    "        vals.append(expression)\n",
    "'''\n",
    "# Example:\n",
    "\n",
    "even_squares = [x * x for x in range(10) if not x % 2]\n",
    "even_squares"
   ]
  },
  {
   "cell_type": "markdown",
   "metadata": {},
   "source": [
    "<hr>\n",
    "\n",
    "## Time Series Data\n",
    "\n",
    "<hr>"
   ]
  },
  {
   "cell_type": "code",
   "execution_count": null,
   "metadata": {},
   "outputs": [],
   "source": []
  },
  {
   "cell_type": "code",
   "execution_count": null,
   "metadata": {},
   "outputs": [],
   "source": []
  },
  {
   "cell_type": "code",
   "execution_count": null,
   "metadata": {},
   "outputs": [],
   "source": []
  },
  {
   "cell_type": "markdown",
   "metadata": {},
   "source": [
    "<hr>\n",
    "\n",
    "## Demo\n",
    "\n",
    "<hr>"
   ]
  },
  {
   "cell_type": "code",
   "execution_count": 1,
   "metadata": {},
   "outputs": [],
   "source": [
    "# import Pandas and statsmodels\n",
    "import pandas as pd\n",
    "import statsmodels.formula.api as smf"
   ]
  },
  {
   "cell_type": "code",
   "execution_count": 2,
   "metadata": {},
   "outputs": [
    {
     "data": {
      "text/html": [
       "<div>\n",
       "<style scoped>\n",
       "    .dataframe tbody tr th:only-of-type {\n",
       "        vertical-align: middle;\n",
       "    }\n",
       "\n",
       "    .dataframe tbody tr th {\n",
       "        vertical-align: top;\n",
       "    }\n",
       "\n",
       "    .dataframe thead th {\n",
       "        text-align: right;\n",
       "    }\n",
       "</style>\n",
       "<table border=\"1\" class=\"dataframe\">\n",
       "  <thead>\n",
       "    <tr style=\"text-align: right;\">\n",
       "      <th></th>\n",
       "      <th>id</th>\n",
       "      <th>geoid</th>\n",
       "      <th>label</th>\n",
       "      <th>totpop</th>\n",
       "      <th>medage</th>\n",
       "      <th>sindads</th>\n",
       "      <th>sinmoms</th>\n",
       "    </tr>\n",
       "  </thead>\n",
       "  <tbody>\n",
       "    <tr>\n",
       "      <th>0</th>\n",
       "      <td>0500000US21001</td>\n",
       "      <td>21001</td>\n",
       "      <td>Adair County, Kentucky</td>\n",
       "      <td>18656</td>\n",
       "      <td>39.0</td>\n",
       "      <td>176</td>\n",
       "      <td>422</td>\n",
       "    </tr>\n",
       "    <tr>\n",
       "      <th>1</th>\n",
       "      <td>0500000US21003</td>\n",
       "      <td>21003</td>\n",
       "      <td>Allen County, Kentucky</td>\n",
       "      <td>19956</td>\n",
       "      <td>39.2</td>\n",
       "      <td>176</td>\n",
       "      <td>486</td>\n",
       "    </tr>\n",
       "  </tbody>\n",
       "</table>\n",
       "</div>"
      ],
      "text/plain": [
       "               id  geoid                   label  totpop  medage  sindads  \\\n",
       "0  0500000US21001  21001  Adair County, Kentucky   18656    39.0      176   \n",
       "1  0500000US21003  21003  Allen County, Kentucky   19956    39.2      176   \n",
       "\n",
       "   sinmoms  \n",
       "0      422  \n",
       "1      486  "
      ]
     },
     "execution_count": 2,
     "metadata": {},
     "output_type": "execute_result"
    }
   ],
   "source": [
    "# read in our census data set\n",
    "census_2010_ky = pd.read_csv('data/census_2010_ky.csv')\n",
    "census_2010_ky.head(2)"
   ]
  },
  {
   "cell_type": "code",
   "execution_count": 3,
   "metadata": {},
   "outputs": [
    {
     "data": {
      "text/html": [
       "<div>\n",
       "<style scoped>\n",
       "    .dataframe tbody tr th:only-of-type {\n",
       "        vertical-align: middle;\n",
       "    }\n",
       "\n",
       "    .dataframe tbody tr th {\n",
       "        vertical-align: top;\n",
       "    }\n",
       "\n",
       "    .dataframe thead th {\n",
       "        text-align: right;\n",
       "    }\n",
       "</style>\n",
       "<table border=\"1\" class=\"dataframe\">\n",
       "  <thead>\n",
       "    <tr style=\"text-align: right;\">\n",
       "      <th></th>\n",
       "      <th>geoid</th>\n",
       "      <th>totpop</th>\n",
       "      <th>medage</th>\n",
       "      <th>sindads</th>\n",
       "      <th>sinmoms</th>\n",
       "    </tr>\n",
       "  </thead>\n",
       "  <tbody>\n",
       "    <tr>\n",
       "      <th>count</th>\n",
       "      <td>120.000000</td>\n",
       "      <td>120.000000</td>\n",
       "      <td>120.000000</td>\n",
       "      <td>120.000000</td>\n",
       "      <td>120.000000</td>\n",
       "    </tr>\n",
       "    <tr>\n",
       "      <th>mean</th>\n",
       "      <td>21120.000000</td>\n",
       "      <td>36161.391667</td>\n",
       "      <td>39.638333</td>\n",
       "      <td>349.800000</td>\n",
       "      <td>1015.758333</td>\n",
       "    </tr>\n",
       "    <tr>\n",
       "      <th>std</th>\n",
       "      <td>69.570109</td>\n",
       "      <td>74122.757215</td>\n",
       "      <td>2.713247</td>\n",
       "      <td>711.645101</td>\n",
       "      <td>2584.908977</td>\n",
       "    </tr>\n",
       "    <tr>\n",
       "      <th>min</th>\n",
       "      <td>21001.000000</td>\n",
       "      <td>2282.000000</td>\n",
       "      <td>28.900000</td>\n",
       "      <td>26.000000</td>\n",
       "      <td>40.000000</td>\n",
       "    </tr>\n",
       "    <tr>\n",
       "      <th>25%</th>\n",
       "      <td>21060.500000</td>\n",
       "      <td>12385.250000</td>\n",
       "      <td>38.475000</td>\n",
       "      <td>123.750000</td>\n",
       "      <td>289.250000</td>\n",
       "    </tr>\n",
       "    <tr>\n",
       "      <th>50%</th>\n",
       "      <td>21120.000000</td>\n",
       "      <td>18751.000000</td>\n",
       "      <td>40.100000</td>\n",
       "      <td>191.500000</td>\n",
       "      <td>487.000000</td>\n",
       "    </tr>\n",
       "    <tr>\n",
       "      <th>75%</th>\n",
       "      <td>21179.500000</td>\n",
       "      <td>35619.000000</td>\n",
       "      <td>41.000000</td>\n",
       "      <td>313.750000</td>\n",
       "      <td>865.250000</td>\n",
       "    </tr>\n",
       "    <tr>\n",
       "      <th>max</th>\n",
       "      <td>21239.000000</td>\n",
       "      <td>741096.000000</td>\n",
       "      <td>47.900000</td>\n",
       "      <td>7246.000000</td>\n",
       "      <td>26664.000000</td>\n",
       "    </tr>\n",
       "  </tbody>\n",
       "</table>\n",
       "</div>"
      ],
      "text/plain": [
       "              geoid         totpop      medage      sindads       sinmoms\n",
       "count    120.000000     120.000000  120.000000   120.000000    120.000000\n",
       "mean   21120.000000   36161.391667   39.638333   349.800000   1015.758333\n",
       "std       69.570109   74122.757215    2.713247   711.645101   2584.908977\n",
       "min    21001.000000    2282.000000   28.900000    26.000000     40.000000\n",
       "25%    21060.500000   12385.250000   38.475000   123.750000    289.250000\n",
       "50%    21120.000000   18751.000000   40.100000   191.500000    487.000000\n",
       "75%    21179.500000   35619.000000   41.000000   313.750000    865.250000\n",
       "max    21239.000000  741096.000000   47.900000  7246.000000  26664.000000"
      ]
     },
     "execution_count": 3,
     "metadata": {},
     "output_type": "execute_result"
    }
   ],
   "source": [
    "census_2010_ky.describe()"
   ]
  },
  {
   "cell_type": "code",
   "execution_count": 20,
   "metadata": {},
   "outputs": [
    {
     "data": {
      "text/plain": [
       "40.1    6\n",
       "39.5    5\n",
       "40.6    5\n",
       "39.8    4\n",
       "40.7    4\n",
       "40.9    4\n",
       "41.1    3\n",
       "35.0    3\n",
       "40.3    3\n",
       "40.5    3\n",
       "42.6    3\n",
       "40.2    3\n",
       "39.9    3\n",
       "41.8    2\n",
       "37.9    2\n",
       "40.4    2\n",
       "41.6    2\n",
       "39.3    2\n",
       "38.4    2\n",
       "42.2    2\n",
       "41.0    2\n",
       "39.2    2\n",
       "39.0    2\n",
       "37.7    2\n",
       "39.1    2\n",
       "33.7    2\n",
       "41.3    2\n",
       "39.7    2\n",
       "28.9    1\n",
       "35.7    1\n",
       "       ..\n",
       "36.0    1\n",
       "38.9    1\n",
       "42.0    1\n",
       "37.0    1\n",
       "34.0    1\n",
       "40.0    1\n",
       "39.4    1\n",
       "32.7    1\n",
       "44.8    1\n",
       "44.9    1\n",
       "37.8    1\n",
       "47.9    1\n",
       "37.6    1\n",
       "44.2    1\n",
       "43.8    1\n",
       "41.7    1\n",
       "38.8    1\n",
       "38.1    1\n",
       "43.9    1\n",
       "38.2    1\n",
       "35.3    1\n",
       "37.4    1\n",
       "37.1    1\n",
       "42.9    1\n",
       "38.7    1\n",
       "42.8    1\n",
       "42.4    1\n",
       "31.7    1\n",
       "38.6    1\n",
       "44.3    1\n",
       "Name: medage, Length: 69, dtype: int64"
      ]
     },
     "execution_count": 20,
     "metadata": {},
     "output_type": "execute_result"
    }
   ],
   "source": [
    "census_2010_ky.medage.value_counts()"
   ]
  },
  {
   "cell_type": "code",
   "execution_count": 19,
   "metadata": {},
   "outputs": [
    {
     "data": {
      "text/plain": [
       "array([39. , 39.2, 38.4, 42.4, 39.7, 39.9, 41. , 35.7, 40.7, 41.8, 40.6,\n",
       "       40. , 41.6, 38.2, 40.1, 42.6, 34. , 37. , 42.9, 37.6, 39.3, 28.9,\n",
       "       39.8, 37.7, 43.8, 38.8, 41.3, 33.7, 42.8, 37.4, 41.2, 35.3, 42. ,\n",
       "       39.5, 35. , 40.5, 44.8, 40.4, 37.9, 35.8, 36. , 38.5, 40.2, 40.9,\n",
       "       41.1, 40.3, 44.9, 47.9, 41.5, 39.1, 37.8, 44.3, 37.3, 41.7, 42.1,\n",
       "       38. , 38.6, 42.2, 38.7, 43.9, 31.7, 38.3, 38.9, 39.4, 37.1, 44.2,\n",
       "       36.3, 32.7, 38.1])"
      ]
     },
     "execution_count": 19,
     "metadata": {},
     "output_type": "execute_result"
    }
   ],
   "source": [
    "census_2010_ky.medage.unique()"
   ]
  },
  {
   "cell_type": "code",
   "execution_count": 13,
   "metadata": {},
   "outputs": [
    {
     "data": {
      "text/html": [
       "<table class=\"simpletable\">\n",
       "<caption>OLS Regression Results</caption>\n",
       "<tr>\n",
       "  <th>Dep. Variable:</th>         <td>sindads</td>     <th>  R-squared:         </th> <td>   0.989</td> \n",
       "</tr>\n",
       "<tr>\n",
       "  <th>Model:</th>                   <td>OLS</td>       <th>  Adj. R-squared:    </th> <td>   0.989</td> \n",
       "</tr>\n",
       "<tr>\n",
       "  <th>Method:</th>             <td>Least Squares</td>  <th>  F-statistic:       </th> <td>1.067e+04</td>\n",
       "</tr>\n",
       "<tr>\n",
       "  <th>Date:</th>             <td>Thu, 18 Oct 2018</td> <th>  Prob (F-statistic):</th> <td>1.50e-117</td>\n",
       "</tr>\n",
       "<tr>\n",
       "  <th>Time:</th>                 <td>18:16:46</td>     <th>  Log-Likelihood:    </th> <td> -686.98</td> \n",
       "</tr>\n",
       "<tr>\n",
       "  <th>No. Observations:</th>      <td>   120</td>      <th>  AIC:               </th> <td>   1378.</td> \n",
       "</tr>\n",
       "<tr>\n",
       "  <th>Df Residuals:</th>          <td>   118</td>      <th>  BIC:               </th> <td>   1384.</td> \n",
       "</tr>\n",
       "<tr>\n",
       "  <th>Df Model:</th>              <td>     1</td>      <th>                     </th>     <td> </td>    \n",
       "</tr>\n",
       "<tr>\n",
       "  <th>Covariance Type:</th>      <td>nonrobust</td>    <th>                     </th>     <td> </td>    \n",
       "</tr>\n",
       "</table>\n",
       "<table class=\"simpletable\">\n",
       "<tr>\n",
       "      <td></td>         <th>coef</th>     <th>std err</th>      <th>t</th>      <th>P>|t|</th>  <th>[0.025</th>    <th>0.975]</th>  \n",
       "</tr>\n",
       "<tr>\n",
       "  <th>Intercept</th> <td>   71.6883</td> <td>    7.337</td> <td>    9.771</td> <td> 0.000</td> <td>   57.160</td> <td>   86.217</td>\n",
       "</tr>\n",
       "<tr>\n",
       "  <th>sinmoms</th>   <td>    0.2738</td> <td>    0.003</td> <td>  103.273</td> <td> 0.000</td> <td>    0.269</td> <td>    0.279</td>\n",
       "</tr>\n",
       "</table>\n",
       "<table class=\"simpletable\">\n",
       "<tr>\n",
       "  <th>Omnibus:</th>       <td>76.240</td> <th>  Durbin-Watson:     </th> <td>   2.193</td> \n",
       "</tr>\n",
       "<tr>\n",
       "  <th>Prob(Omnibus):</th> <td> 0.000</td> <th>  Jarque-Bera (JB):  </th> <td> 557.351</td> \n",
       "</tr>\n",
       "<tr>\n",
       "  <th>Skew:</th>          <td> 2.036</td> <th>  Prob(JB):          </th> <td>9.39e-122</td>\n",
       "</tr>\n",
       "<tr>\n",
       "  <th>Kurtosis:</th>      <td>12.741</td> <th>  Cond. No.          </th> <td>2.97e+03</td> \n",
       "</tr>\n",
       "</table><br/><br/>Warnings:<br/>[1] Standard Errors assume that the covariance matrix of the errors is correctly specified.<br/>[2] The condition number is large, 2.97e+03. This might indicate that there are<br/>strong multicollinearity or other numerical problems."
      ],
      "text/plain": [
       "<class 'statsmodels.iolib.summary.Summary'>\n",
       "\"\"\"\n",
       "                            OLS Regression Results                            \n",
       "==============================================================================\n",
       "Dep. Variable:                sindads   R-squared:                       0.989\n",
       "Model:                            OLS   Adj. R-squared:                  0.989\n",
       "Method:                 Least Squares   F-statistic:                 1.067e+04\n",
       "Date:                Thu, 18 Oct 2018   Prob (F-statistic):          1.50e-117\n",
       "Time:                        18:16:46   Log-Likelihood:                -686.98\n",
       "No. Observations:                 120   AIC:                             1378.\n",
       "Df Residuals:                     118   BIC:                             1384.\n",
       "Df Model:                           1                                         \n",
       "Covariance Type:            nonrobust                                         \n",
       "==============================================================================\n",
       "                 coef    std err          t      P>|t|      [0.025      0.975]\n",
       "------------------------------------------------------------------------------\n",
       "Intercept     71.6883      7.337      9.771      0.000      57.160      86.217\n",
       "sinmoms        0.2738      0.003    103.273      0.000       0.269       0.279\n",
       "==============================================================================\n",
       "Omnibus:                       76.240   Durbin-Watson:                   2.193\n",
       "Prob(Omnibus):                  0.000   Jarque-Bera (JB):              557.351\n",
       "Skew:                           2.036   Prob(JB):                    9.39e-122\n",
       "Kurtosis:                      12.741   Cond. No.                     2.97e+03\n",
       "==============================================================================\n",
       "\n",
       "Warnings:\n",
       "[1] Standard Errors assume that the covariance matrix of the errors is correctly specified.\n",
       "[2] The condition number is large, 2.97e+03. This might indicate that there are\n",
       "strong multicollinearity or other numerical problems.\n",
       "\"\"\""
      ]
     },
     "execution_count": 13,
     "metadata": {},
     "output_type": "execute_result"
    }
   ],
   "source": [
    "# use our order of lease squares model to fit the relationship between single moms and single dads\n",
    "model = smf.ols('sindads~sinmoms', census_2010_ky).fit()\n",
    "model.summary()"
   ]
  },
  {
   "cell_type": "code",
   "execution_count": null,
   "metadata": {},
   "outputs": [],
   "source": [
    "from statsmodels import"
   ]
  },
  {
   "cell_type": "code",
   "execution_count": null,
   "metadata": {},
   "outputs": [],
   "source": []
  },
  {
   "cell_type": "code",
   "execution_count": null,
   "metadata": {},
   "outputs": [],
   "source": []
  },
  {
   "cell_type": "markdown",
   "metadata": {},
   "source": [
    "### Wordclouds"
   ]
  },
  {
   "cell_type": "code",
   "execution_count": null,
   "metadata": {},
   "outputs": [],
   "source": [
    "from os import path\n",
    "from wordcloud import WordCloud, STOPWORDS\n",
    "import numpy as np\n",
    "from PIL import Image\n",
    "\n",
    "# Read the whole text.\n",
    "text = open('text.txt').read()\n",
    "\n",
    "mask = np.array(Image.open(\"mask.png\"))\n",
    "\n",
    "stopwords = set(STOPWORDS)\n",
    "\n",
    "# Generate a word cloud image\n",
    "wordcloud = WordCloud(background_color=\"black\", mask=mask, stopwords=stopwords, contour_width=3, contour_color='white').generate(text)\n",
    "wordcloud.to_file('output_image.jpg')"
   ]
  },
  {
   "cell_type": "markdown",
   "metadata": {
    "slideshow": {
     "slide_type": "slide"
    }
   },
   "source": [
    "_\n",
    "## Resources\n",
    "_\n",
    "\n",
    "**Note:** A lot of the open-source materials are provided by people who develop those materials for a living. So please consider sending them a thank you and if you can, a few buck to support their efforts. Thanks! :)    \n",
    "\n",
    "* "
   ]
  }
 ],
 "metadata": {
  "kernelspec": {
   "display_name": "Python 3",
   "language": "python",
   "name": "python3"
  },
  "language_info": {
   "codemirror_mode": {
    "name": "ipython",
    "version": 3
   },
   "file_extension": ".py",
   "mimetype": "text/x-python",
   "name": "python",
   "nbconvert_exporter": "python",
   "pygments_lexer": "ipython3",
   "version": "3.6.5"
  }
 },
 "nbformat": 4,
 "nbformat_minor": 2
}
