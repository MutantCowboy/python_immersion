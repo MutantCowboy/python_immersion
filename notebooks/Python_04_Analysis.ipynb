{
 "cells": [
  {
   "cell_type": "markdown",
   "metadata": {},
   "source": [
    "# Python Immersion Course\n",
    "\n",
    "### Data Analysis with Python - Part 4\n",
    "\n",
    "### Joe Blankenship - Just some dude"
   ]
  },
  {
   "cell_type": "markdown",
   "metadata": {},
   "source": [
    "We'll be extending our work in part 3 with ETL processes to the realm of analysis. Currently, there is significant overlap between bringing in data and its analysis (often in as near real time as possible). Below we'll be leaning heavily on the work of Wes McKinney. If you have a chance, reach out to Wes and thank him and if you're feeling generous, buy his book (see syllabus; I highly recommend it). "
   ]
  },
  {
   "cell_type": "markdown",
   "metadata": {},
   "source": [
    "<hr>\n",
    "\n",
    "## Statistical Concepts\n",
    "\n",
    "<hr>"
   ]
  },
  {
   "cell_type": "markdown",
   "metadata": {},
   "source": [
    "An understanding of statistical modeling is essential before using Python to process your data. Here are a few key concepts to review:\n",
    "\n",
    "* Hypothesis - unproven or unsubstantiated statement on a problem being investigated that is testable\n",
    "* Model - a device to simplify the problem's reality so that relationships between variables can be studied\n",
    "* Population - collection of all data we are interested in studing\n",
    "* Sample - a subset of a population\n",
    "* Descriptive Stats - representation of patterns existing in the data\n",
    "* Inferential Stats - estimations or predictions about the population based on sample analysis\n",
    "* Accuracy - a degree of correctness for a data set/point based on a standard\n",
    "* Precision - a measure of repeatability\n",
    "* Validity - a measurement of quality of a variable\n",
    "* Reliability - a measurement of errors in data over time\n",
    "* Mean - the average number\n",
    "* Median - the middle number\n",
    "* Mode - the most frequent number\n",
    "* Central Tendency - clustering of values about certain numerical values (such as mean, median or mode)\n",
    "* Variability - the spread and dispersion of data values"
   ]
  },
  {
   "cell_type": "markdown",
   "metadata": {},
   "source": [
    "<hr>\n",
    "\n",
    "## Numpy\n",
    "\n",
    "<hr>"
   ]
  },
  {
   "cell_type": "code",
   "execution_count": null,
   "metadata": {},
   "outputs": [],
   "source": [
    "# import numpy\n",
    "\n",
    "import numpy as np"
   ]
  },
  {
   "cell_type": "markdown",
   "metadata": {},
   "source": [
    "### NumPy ndarray"
   ]
  },
  {
   "cell_type": "code",
   "execution_count": null,
   "metadata": {},
   "outputs": [],
   "source": [
    "# Here is a sum of a simple list\n",
    "\n",
    "a = list(range(1000000))\n",
    "\n",
    "%timeit sum(a)"
   ]
  },
  {
   "cell_type": "code",
   "execution_count": null,
   "metadata": {},
   "outputs": [],
   "source": [
    "# now here is the advantage of using a NumPy array\n",
    "\n",
    "b = np.array(a)\n",
    "\n",
    "%timeit np.sum(b)"
   ]
  },
  {
   "cell_type": "code",
   "execution_count": null,
   "metadata": {},
   "outputs": [],
   "source": [
    "#create a numpy array with .array() function\n",
    "# Broadcast a math operation\n",
    "\n",
    "a = np.array([1, 2, 3, 4])\n",
    "\n",
    "a * 2"
   ]
  },
  {
   "cell_type": "code",
   "execution_count": null,
   "metadata": {},
   "outputs": [],
   "source": [
    "# ndarrays is a homogeneous data container\n",
    "\n",
    "a.dtype"
   ]
  },
  {
   "cell_type": "code",
   "execution_count": null,
   "metadata": {},
   "outputs": [],
   "source": [
    "# determine the dimension of your array\n",
    "# in this case we get a tuple with our array dimensions\n",
    "# in this case a 2D array (columns, rows)\n",
    "\n",
    "a.shape"
   ]
  },
  {
   "cell_type": "code",
   "execution_count": null,
   "metadata": {},
   "outputs": [],
   "source": [
    "# you can create empty or zero filled arrays with a tuple\n",
    "\n",
    "array_zeros = np.zeros((4, 4))\n",
    "array_zeros"
   ]
  },
  {
   "cell_type": "code",
   "execution_count": null,
   "metadata": {},
   "outputs": [],
   "source": [
    "# an array with 2 columns or 2 nested lists in 2 rows\n",
    "\n",
    "array_empty = np.empty((2, 2, 2))\n",
    "array_empty"
   ]
  },
  {
   "cell_type": "code",
   "execution_count": null,
   "metadata": {},
   "outputs": [],
   "source": [
    "# numpy can handle many data types\n",
    "\n",
    "array_dtype = np.array([1, 2, 3, 4], dtype=np.int64)\n",
    "array_dtype.dtype"
   ]
  },
  {
   "cell_type": "code",
   "execution_count": null,
   "metadata": {},
   "outputs": [],
   "source": [
    "# vectorization allows numpy to express operations without for loops\n",
    "\n",
    "array_demo = np.array([[1, 2, 3], [4, 5, 6]])\n",
    "array_demo * array_demo"
   ]
  },
  {
   "cell_type": "markdown",
   "metadata": {},
   "source": [
    "### Indexing and Slicing"
   ]
  },
  {
   "cell_type": "code",
   "execution_count": null,
   "metadata": {},
   "outputs": [],
   "source": [
    "# numpy has its own range function\n",
    "\n",
    "array_range = np.arange(10)\n",
    "array_range"
   ]
  },
  {
   "cell_type": "code",
   "execution_count": null,
   "metadata": {},
   "outputs": [],
   "source": [
    "# we can slice and index just like we learned in Part 2\n",
    "\n",
    "array_range[::2]"
   ]
  },
  {
   "cell_type": "code",
   "execution_count": null,
   "metadata": {},
   "outputs": [],
   "source": [
    "# we can apply changes to slices\n",
    "\n",
    "array_range_slice = array_range[5:8]\n",
    "array_range_slice[:] = 42\n",
    "array_range"
   ]
  },
  {
   "cell_type": "code",
   "execution_count": null,
   "metadata": {},
   "outputs": [],
   "source": [
    "# we can apply this to higher dimensional arrays\n",
    "\n",
    "array_demo_2D = np.array([[1, 2, 3], [4, 5, 6], [7, 8, 9]])\n",
    "array_demo_2D[0][2]  # access item in 3rd column, 1st row"
   ]
  },
  {
   "cell_type": "code",
   "execution_count": null,
   "metadata": {},
   "outputs": [],
   "source": [
    "array_demo_3D = np.array([[[1, 2, 3], [4, 5, 6]], [[7, 8, 9], [10, 11,12]]])\n",
    "array_demo_3D[0, 1, 0]  # access 1st element of the second list in the first row"
   ]
  },
  {
   "cell_type": "code",
   "execution_count": null,
   "metadata": {},
   "outputs": [],
   "source": [
    "# you can use Boolean operators\n",
    "\n",
    "array_demo_3D > 6"
   ]
  },
  {
   "cell_type": "code",
   "execution_count": null,
   "metadata": {},
   "outputs": [],
   "source": [
    "# we can use reshape to provide dimension for an array\n",
    "\n",
    "array_reshape = np.arange(24).reshape((8, 3))\n",
    "array_reshape"
   ]
  },
  {
   "cell_type": "code",
   "execution_count": null,
   "metadata": {},
   "outputs": [],
   "source": [
    "# we can then transpose our array\n",
    "# this is very useful for matrix math\n",
    "\n",
    "array_reshape.T"
   ]
  },
  {
   "cell_type": "code",
   "execution_count": null,
   "metadata": {},
   "outputs": [],
   "source": [
    "# we can use .dot() for inner matrix products\n",
    "# ORDER MATTERS! try swapping the order of the transpose\n",
    "\n",
    "np.dot(array_reshape.T, array_reshape)"
   ]
  },
  {
   "cell_type": "markdown",
   "metadata": {},
   "source": [
    "### Functions"
   ]
  },
  {
   "cell_type": "code",
   "execution_count": null,
   "metadata": {},
   "outputs": [],
   "source": [
    "# numpy has many ufuncs or universal functions for fast operations\n",
    "# They are similar to standard library operations (e.g., unary ufuncs)\n",
    "\n",
    "array_funcs = np.arange(10)\n",
    "np.sqrt(array_funcs)"
   ]
  },
  {
   "cell_type": "code",
   "execution_count": null,
   "metadata": {},
   "outputs": [],
   "source": [
    "# binary ufuncs take two arrays and return one\n",
    "\n",
    "array_funcs_x = np.random.randn(10)\n",
    "array_funcs_y = np.random.randn(10)\n",
    "# return largest number per element between each array index\n",
    "np.maximum(array_funcs_x, array_funcs_y)"
   ]
  },
  {
   "cell_type": "markdown",
   "metadata": {},
   "source": [
    "### Data Processing"
   ]
  },
  {
   "cell_type": "code",
   "execution_count": null,
   "metadata": {},
   "outputs": [],
   "source": [
    "# let's continue with examples of vertorization and broadcasting\n",
    "# these are two reasons why numerical computation with numpy is great\n",
    "\n",
    "# create an array of 1000 equally spaced points\n",
    "points = np.arange(-5, 5, 0.01)\n",
    "\n",
    "# create a meshgrid using out 1D points array twice\n",
    "xs, ys = np.meshgrid(points, points)\n",
    "\n",
    "# now we can evaluate the function sqrt(x^2 + y^2)\n",
    "z = np.sqrt(xs ** 2 + ys ** 2)\n",
    "%timeit z"
   ]
  },
  {
   "cell_type": "code",
   "execution_count": null,
   "metadata": {},
   "outputs": [],
   "source": [
    "# numpy.where can replace `x if condition else y` statements for any scale array\n",
    "\n",
    "cond = np.array([True, True, False, False, False, True, False, False, True, False])\n",
    "# create a resultant array\n",
    "# where a value is taken from x where condition is True\n",
    "np.where(cond, array_funcs_x, array_funcs_y)"
   ]
  },
  {
   "cell_type": "code",
   "execution_count": null,
   "metadata": {},
   "outputs": [],
   "source": [
    "# we can also call math function for arrays such as mean and standard deviation\n",
    "\n",
    "rand_2d_array = np.random.randn(5, 4)\n",
    "print(\"mean: \" + str(rand_2d_array.mean()) + \" - std: \" + str(rand_2d_array.std()))"
   ]
  },
  {
   "cell_type": "code",
   "execution_count": null,
   "metadata": {},
   "outputs": [],
   "source": [
    "# you can apply these across any number of axes\n",
    "\n",
    "rand_2d_array.mean(axis=1)"
   ]
  },
  {
   "cell_type": "code",
   "execution_count": null,
   "metadata": {},
   "outputs": [],
   "source": [
    "# for Boolean arrays, you can use .any() and .all() to check for True\n",
    "\n",
    "cond.any()"
   ]
  },
  {
   "cell_type": "code",
   "execution_count": null,
   "metadata": {},
   "outputs": [],
   "source": [
    "# we can sort our values using .sort()\n",
    "\n",
    "array_funcs_x.sort(0)  # sort our 1D array in ascending order\n",
    "array_funcs_x"
   ]
  },
  {
   "cell_type": "code",
   "execution_count": null,
   "metadata": {},
   "outputs": [],
   "source": [
    "# We can use .unique() to create an array of unique values from an array\n",
    "\n",
    "array_funcs_unique = np.array([1, 2, 3, 3, 2, 3, 1, 2, 2, 1])\n",
    "np.unique(array_funcs_unique)"
   ]
  },
  {
   "cell_type": "code",
   "execution_count": null,
   "metadata": {},
   "outputs": [],
   "source": [
    "# you can use inid to test membership of values in one array\n",
    "\n",
    "np.in1d(array_funcs_unique, [1, 3, 4, 5])"
   ]
  },
  {
   "cell_type": "markdown",
   "metadata": {},
   "source": [
    "### File I/O"
   ]
  },
  {
   "cell_type": "code",
   "execution_count": null,
   "metadata": {},
   "outputs": [],
   "source": [
    "# use np.save() and np.load() to write and read data\n",
    "# data is saved as raw binary data files with the .npy extension\n",
    "\n",
    "np.save('data/meshgrid_proof_out', z)"
   ]
  },
  {
   "cell_type": "code",
   "execution_count": null,
   "metadata": {},
   "outputs": [],
   "source": [
    "np.load('data/meshgrid_proof_out.npy')"
   ]
  },
  {
   "cell_type": "code",
   "execution_count": null,
   "metadata": {},
   "outputs": [],
   "source": [
    "# You can also use np.loadtxt and np.genfromtxt...\n",
    "# but this is much easier to do in Pandas :)"
   ]
  },
  {
   "cell_type": "markdown",
   "metadata": {},
   "source": [
    "<hr>\n",
    "\n",
    "## Pandas\n",
    "\n",
    "<hr>"
   ]
  },
  {
   "cell_type": "code",
   "execution_count": null,
   "metadata": {},
   "outputs": [],
   "source": []
  },
  {
   "cell_type": "markdown",
   "metadata": {},
   "source": [
    "### Series"
   ]
  },
  {
   "cell_type": "code",
   "execution_count": null,
   "metadata": {},
   "outputs": [],
   "source": []
  },
  {
   "cell_type": "markdown",
   "metadata": {},
   "source": [
    "### DataFrame"
   ]
  },
  {
   "cell_type": "code",
   "execution_count": null,
   "metadata": {},
   "outputs": [],
   "source": []
  },
  {
   "cell_type": "markdown",
   "metadata": {},
   "source": [
    "### Indexing"
   ]
  },
  {
   "cell_type": "code",
   "execution_count": null,
   "metadata": {},
   "outputs": [],
   "source": []
  },
  {
   "cell_type": "markdown",
   "metadata": {},
   "source": [
    "### Functionality"
   ]
  },
  {
   "cell_type": "code",
   "execution_count": null,
   "metadata": {},
   "outputs": [],
   "source": []
  },
  {
   "cell_type": "markdown",
   "metadata": {},
   "source": [
    "### Descriptive Stats"
   ]
  },
  {
   "cell_type": "code",
   "execution_count": null,
   "metadata": {},
   "outputs": [],
   "source": []
  },
  {
   "cell_type": "markdown",
   "metadata": {},
   "source": [
    "### Missing Data"
   ]
  },
  {
   "cell_type": "code",
   "execution_count": null,
   "metadata": {},
   "outputs": [],
   "source": []
  },
  {
   "cell_type": "markdown",
   "metadata": {
    "slideshow": {
     "slide_type": "slide"
    }
   },
   "source": [
    "<hr>\n",
    "\n",
    "## Resources\n",
    "\n",
    "<hr>\n",
    "\n",
    "**Note:** A lot of the open-source materials are provided by people who develop those materials for a living. So please consider sending them a thank you and if you can, a few buck to support their efforts. Thanks! :)    \n",
    "\n",
    "* [SciPy Lectures](http://www.scipy-lectures.org/)"
   ]
  }
 ],
 "metadata": {
  "kernelspec": {
   "display_name": "Python 3",
   "language": "python",
   "name": "python3"
  },
  "language_info": {
   "codemirror_mode": {
    "name": "ipython",
    "version": 3
   },
   "file_extension": ".py",
   "mimetype": "text/x-python",
   "name": "python",
   "nbconvert_exporter": "python",
   "pygments_lexer": "ipython3",
   "version": "3.6.5"
  }
 },
 "nbformat": 4,
 "nbformat_minor": 2
}
